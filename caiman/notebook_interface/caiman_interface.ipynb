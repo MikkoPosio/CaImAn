{
 "cells": [
  {
   "cell_type": "code",
   "execution_count": 1,
   "metadata": {
    "extensions": {
     "jupyter_dashboards": {
      "version": 1,
      "views": {
       "grid_default": {
        "hidden": true
       },
       "report_default": {
        "hidden": true
       }
      }
     }
    },
    "nbpresent": {
     "id": "790f1d6b-6a21-4009-85ef-31964fcfa7b1"
    }
   },
   "outputs": [
    {
     "ename": "ImportError",
     "evalue": "No module named 'caiman'",
     "output_type": "error",
     "traceback": [
      "\u001b[0;31m---------------------------------------------------------------------------\u001b[0m",
      "\u001b[0;31mImportError\u001b[0m                               Traceback (most recent call last)",
      "\u001b[0;32m<ipython-input-1-464006b2e01e>\u001b[0m in \u001b[0;36m<module>\u001b[0;34m()\u001b[0m\n\u001b[0;32m----> 1\u001b[0;31m \u001b[0;32mfrom\u001b[0m \u001b[0mcaiman_interface\u001b[0m \u001b[0;32mimport\u001b[0m \u001b[0;34m*\u001b[0m\u001b[0;34m\u001b[0m\u001b[0m\n\u001b[0m\u001b[1;32m      2\u001b[0m \u001b[0mget_ipython\u001b[0m\u001b[0;34m(\u001b[0m\u001b[0;34m)\u001b[0m\u001b[0;34m.\u001b[0m\u001b[0mrun_line_magic\u001b[0m\u001b[0;34m(\u001b[0m\u001b[0;34m'matplotlib'\u001b[0m\u001b[0;34m,\u001b[0m \u001b[0;34m'notebook'\u001b[0m\u001b[0;34m)\u001b[0m\u001b[0;34m\u001b[0m\u001b[0m\n",
      "\u001b[0;32m~/Desktop/KhakhLab/MiniscopeProject/CaImAn/caiman/notebook_interface/caiman_interface.py\u001b[0m in \u001b[0;36m<module>\u001b[0;34m()\u001b[0m\n\u001b[1;32m     13\u001b[0m \u001b[0;32mimport\u001b[0m \u001b[0mnumpy\u001b[0m \u001b[0;32mas\u001b[0m \u001b[0mnp\u001b[0m\u001b[0;34m\u001b[0m\u001b[0m\n\u001b[1;32m     14\u001b[0m \u001b[0;34m\u001b[0m\u001b[0m\n\u001b[0;32m---> 15\u001b[0;31m \u001b[0;32mfrom\u001b[0m \u001b[0mcaiman_easy\u001b[0m \u001b[0;32mimport\u001b[0m \u001b[0;34m*\u001b[0m\u001b[0;34m\u001b[0m\u001b[0m\n\u001b[0m\u001b[1;32m     16\u001b[0m \u001b[0;32mfrom\u001b[0m \u001b[0minterface_widgets\u001b[0m \u001b[0;32mimport\u001b[0m \u001b[0;34m*\u001b[0m\u001b[0;34m\u001b[0m\u001b[0m\n\u001b[1;32m     17\u001b[0m \u001b[0;31m#from event_logic import *\u001b[0m\u001b[0;34m\u001b[0m\u001b[0;34m\u001b[0m\u001b[0m\n",
      "\u001b[0;32m~/Desktop/KhakhLab/MiniscopeProject/CaImAn/caiman/notebook_interface/caiman_easy.py\u001b[0m in \u001b[0;36m<module>\u001b[0;34m()\u001b[0m\n\u001b[1;32m     12\u001b[0m \u001b[0;32mfrom\u001b[0m \u001b[0mscipy\u001b[0m\u001b[0;34m.\u001b[0m\u001b[0msparse\u001b[0m \u001b[0;32mimport\u001b[0m \u001b[0mcoo_matrix\u001b[0m\u001b[0;34m\u001b[0m\u001b[0m\n\u001b[1;32m     13\u001b[0m \u001b[0;32mfrom\u001b[0m \u001b[0mpast\u001b[0m\u001b[0;34m.\u001b[0m\u001b[0mutils\u001b[0m \u001b[0;32mimport\u001b[0m \u001b[0mold_div\u001b[0m\u001b[0;34m\u001b[0m\u001b[0m\n\u001b[0;32m---> 14\u001b[0;31m \u001b[0;32mimport\u001b[0m \u001b[0mcaiman\u001b[0m \u001b[0;32mas\u001b[0m \u001b[0mcm\u001b[0m\u001b[0;34m\u001b[0m\u001b[0m\n\u001b[0m\u001b[1;32m     15\u001b[0m \u001b[0;34m\u001b[0m\u001b[0m\n\u001b[1;32m     16\u001b[0m \u001b[0;32mfrom\u001b[0m \u001b[0mcaiman\u001b[0m\u001b[0;34m.\u001b[0m\u001b[0msource_extraction\u001b[0m \u001b[0;32mimport\u001b[0m \u001b[0mcnmf\u001b[0m\u001b[0;34m\u001b[0m\u001b[0m\n",
      "\u001b[0;31mImportError\u001b[0m: No module named 'caiman'"
     ]
    }
   ],
   "source": [
    "from caiman_interface import *\n",
    "%matplotlib notebook"
   ]
  },
  {
   "cell_type": "markdown",
   "metadata": {
    "extensions": {
     "jupyter_dashboards": {
      "version": 1,
      "views": {
       "grid_default": {
        "col": 0,
        "height": 2,
        "hidden": false,
        "row": 0,
        "width": 12
       },
       "report_default": {
        "hidden": false
       }
      }
     }
    }
   },
   "source": [
    "# <em>Ca</em><font color=\"grey\">lcium</font> <em>Im</em><font color=\"grey\">aging</font> <em>An</em><font color=\"grey\">alysis</font>\n",
    "### Jupyter Notebook Interface (alpha version)"
   ]
  },
  {
   "cell_type": "markdown",
   "metadata": {
    "extensions": {
     "jupyter_dashboards": {
      "version": 1,
      "views": {
       "grid_default": {},
       "report_default": {
        "hidden": false
       }
      }
     }
    }
   },
   "source": [
    "##### Manage Context\n",
    "The context is the data that is saved during each step of the analysis. You can save all of your work as a `context` file with the extension `.pkl`. For example, if you finish the CNMF-E analysis step, you can save your context, and then re-load it later to view the results interactively here. Please note the context files are large, so only save if necessary."
   ]
  },
  {
   "cell_type": "code",
   "execution_count": 2,
   "metadata": {
    "scrolled": false
   },
   "outputs": [
    {
     "data": {
      "application/vnd.jupyter.widget-view+json": {
       "model_id": "943b4bab6d7a4e68b64b951d82628b33",
       "version_major": 2,
       "version_minor": 0
      },
      "text/html": [
       "<p>Failed to display Jupyter Widget of type <code>Tab</code>.</p>\n",
       "<p>\n",
       "  If you're reading this message in the Jupyter Notebook or JupyterLab Notebook, it may mean\n",
       "  that the widgets JavaScript is still loading. If this message persists, it\n",
       "  likely means that the widgets JavaScript library is either not installed or\n",
       "  not enabled. See the <a href=\"https://ipywidgets.readthedocs.io/en/stable/user_install.html\">Jupyter\n",
       "  Widgets Documentation</a> for setup instructions.\n",
       "</p>\n",
       "<p>\n",
       "  If you're reading this message in another frontend (for example, a static\n",
       "  rendering on GitHub or <a href=\"https://nbviewer.jupyter.org/\">NBViewer</a>),\n",
       "  it may mean that your frontend doesn't currently support widgets.\n",
       "</p>\n"
      ],
      "text/plain": [
       "Tab(children=(VBox(children=(HBox(children=(Label(value='Set Working Directory:'), Text(value='/Users/brandonbrown/Desktop/KhakhLab/MiniscopeProject/CaImAn/caiman/notebook_interface', layout=Layout(width='35%'), placeholder='/Users/brandonbrown/Desktop/KhakhLab/MiniscopeProject/CaImAn/caiman/notebook_interface'), Button(button_style='success', description='Set WkDir', style=ButtonStyle(), tooltip='Set working directory'))), HBox(children=(Label(value='Load context from:'), Text(value='/Users/brandonbrown/Desktop/KhakhLab/MiniscopeProject/CaImAn/caiman/notebook_interface', layout=Layout(width='35%'), placeholder='/Users/brandonbrown/Desktop/KhakhLab/MiniscopeProject/CaImAn/caiman/notebook_interface'), Button(button_style='success', description='Load Context', style=ButtonStyle(), tooltip='Load Context'), Button(button_style='success', description='Save Context', style=ButtonStyle(), tooltip='Save Context'))))), VBox(children=(HBox(children=(Text(value='/Users/brandonbrown/Desktop/KhakhLab/MiniscopeProject/CaImAn/caiman/notebook_interface', description='File/Folder Path:', layout=Layout(width='50%'), placeholder='/Users/brandonbrown/Desktop/KhakhLab/MiniscopeProject/CaImAn/caiman/notebook_interface'), Button(button_style='success', description='Load Files', icon='check', style=ButtonStyle(), tooltip='Load Files'))), ToggleButtons(description='Grouped?:', options=('Group', 'Independent'), tooltips=['Run all movies together as if one movie', 'Run each movie independently'], value='Group'), Accordion(children=(VBox(children=(Label(value='Downsample Percentage (spatial, temporal)'), HBox(children=(BoundedFloatText(value=1.0, description='height:', layout=Layout(width='20%'), max=1.0, min=0.1, step=0.1), BoundedFloatText(value=1.0, description='width:', layout=Layout(width='20%'), max=1.0, min=0.1, step=0.1), BoundedFloatText(value=1.0, description='frames:', layout=Layout(width='20%'), max=1.0, min=0.1, step=0.1))), IntSlider(value=7, continuous_update=False, description='High Pass Filter:', max=50), ToggleButtons(button_style='warning', description='MC Mode:', options=('Rigid', 'Non-Rigid'), tooltips=['Rigid correction (faster)', 'Non-rigid correction (slow, more accurate)'], value='Rigid'))), VBox(children=(Label(value='Under Construction'),))), _titles={'0': 'Basic MC Settings', '1': 'Advanced MC Settings'}), Button(button_style='info', description='Run Motion Correction', layout=Layout(width='30%'), style=ButtonStyle(), tooltip='Run motion correction'))), HBox(children=(Button(button_style='success', description='Play Movies', style=ButtonStyle(), tooltip='Play Movies'),)), VBox(children=(HBox(children=(Text(value='/Users/brandonbrown/Desktop/KhakhLab/MiniscopeProject/CaImAn/caiman/notebook_interface', description='File (.mmap):', layout=Layout(width='50%'), placeholder='/Users/brandonbrown/Desktop/KhakhLab/MiniscopeProject/CaImAn/caiman/notebook_interface'),)), Accordion(children=(VBox(children=(HBox(children=(ToggleButtons(description='Patches?:', index=1, options=('Patches', 'Single FOV'), tooltips=['Run each frame in parallel by breaking into overlapping FOVs', 'The whole frame is analyed as a single FOV'], value='Single FOV'),)), HBox(children=(Label(value='Downsample Percentage (spatial, temporal)'), BoundedFloatText(value=1.0, description='spatial:', layout=Layout(width='20%'), max=1.0, step=0.1), BoundedFloatText(value=1.0, description='temporal:', layout=Layout(width='20%'), max=1.0, step=0.1))), HBox(children=(BoundedIntText(value=100, description='K:', layout=Layout(width='20%'), max=1000, min=1, step=5), BoundedIntText(value=4, description='gSig:', layout=Layout(width='20%'), max=50, min=1), BoundedIntText(value=12, description='gSiz:', layout=Layout(width='20%'), max=50, min=1))), HBox(children=(FloatSlider(value=0.85, continuous_update=False, description='Min. Corr.:', max=1.0, readout_format='.2', step=0.05), IntSlider(value=15, continuous_update=False, description='Min. PNR.:', max=50, min=1))), HBox(children=(Checkbox(value=False, description='Run Deconvolution', layout=Layout(width='30%')), Checkbox(value=False, description='Save Denoised Movie (.avi)', layout=Layout(width='30%')))))), VBox(children=(Label(value='Under Construction'),))), _titles={'0': 'Basic CNMF-E Settings', '1': 'Advanced CNMF-E Settings'}), Button(button_style='info', description='Run CNMF-E', layout=Layout(width='30%'), style=ButtonStyle(), tooltip='Run CNMF-E'))), VBox(children=(Button(button_style='info', description='View/Refine CNMF Results', layout=Layout(width='30%'), style=ButtonStyle(), tooltip='View CNMF Results'), VBox())), VBox(children=(IntSlider(value=2, continuous_update=False, description='Movie Magnification:', layout=Layout(width='30%'), max=10, min=1), Button(button_style='info', description='View CNMF-E Analyzed Movie', layout=Layout(width='30%'), style=ButtonStyle(), tooltip='View Background Movie'), Button(button_style='info', description='View Background Movie', layout=Layout(width='30%'), style=ButtonStyle(), tooltip='View Background Movie'), Button(button_style='info', description='View Residual Movie', layout=Layout(width='30%'), style=ButtonStyle(), tooltip='View Residual Movie'))), VBox(children=(HBox(children=(BoundedFloatText(value=0.1, description='Min Thresh:', max=10.0, step=0.001), BoundedFloatText(value=50.0, description='Min Dist:', step=0.001), BoundedFloatText(value=0.03333, description='Frame Dur:', max=10.0, step=0.01))), Button(button_style='success', description='Event Detection', icon='check', style=ButtonStyle(), tooltip='Event Detection & Analysis'), VBox()))), _titles={'0': 'Main', '1': 'Motion Correction', '2': 'MC Results', '3': 'CNMF-E', '4': 'CNMF-E Results', '5': 'CNMF Validation', '6': 'Event Detection'})"
      ]
     },
     "metadata": {},
     "output_type": "display_data"
    },
    {
     "name": "stdout",
     "output_type": "stream",
     "text": [
      "Working Directory set to: /Users/brandonbrown/Desktop/KhakhLab/MiniscopeProject/Xinzhu_Data/\n",
      "Loaded: /Users/brandonbrown/Desktop/KhakhLab/MiniscopeProject/Xinzhu_Data/mc_rig_d1_96_d2_150_d3_1_order_C_frames_2000_.mmap\n",
      "Starting CNMF-E...\n",
      "Single FOV\n",
      "Deconvolution: ON\n",
      "(96, 150)  ;  2000\n",
      "(2000, 96, 150)\n",
      "using 10 processes\n",
      "using 4000 pixels per process\n",
      "using 5000 block_size\n",
      "preprocessing ...\n",
      "checking if missing data\n",
      "initializing ...\n",
      "Roi Extraction...\n",
      "One photon initialization..\n",
      "0 neurons have been initialized\n",
      "In total,  100 neurons were initialized.\n",
      "Compute Background\n",
      "Compute Residuals\n",
      "Update Temporal\n",
      "Generating residuals\n",
      "entering the deconvolution \n",
      "33 out of total 100 temporal components updated\n",
      "61 out of total 100 temporal components updated\n",
      "82 out of total 100 temporal components updated\n",
      "93 out of total 100 temporal components updated\n",
      "98 out of total 100 temporal components updated\n",
      "100 out of total 100 temporal components updated\n",
      "33 out of total 100 temporal components updated\n",
      "61 out of total 100 temporal components updated\n",
      "82 out of total 100 temporal components updated\n",
      "93 out of total 100 temporal components updated\n",
      "98 out of total 100 temporal components updated\n",
      "100 out of total 100 temporal components updated\n",
      "stopping: overall temporal component not changing significantly\n",
      "Update Spatial\n",
      "Initializing update of Spatial Components\n",
      "computing the distance indicators\n",
      "memmaping\n",
      "Updating Spatial Components using lasso lars\n",
      "thresholding components\n",
      "Computing residuals\n",
      "--- 12.602027177810669 seconds ---\n",
      "Removing tempfiles created\n",
      "Compute Background Again\n",
      "Debugging (line 1006, initialization.py): A.shape ((14400, 100)) C.shape ((100, 2000))\n",
      "Update Temporal\n",
      "Generating residuals\n",
      "entering the deconvolution \n",
      "27 out of total 100 temporal components updated\n",
      "52 out of total 100 temporal components updated\n",
      "72 out of total 100 temporal components updated\n",
      "86 out of total 100 temporal components updated\n",
      "94 out of total 100 temporal components updated\n",
      "97 out of total 100 temporal components updated\n",
      "100 out of total 100 temporal components updated\n",
      "27 out of total 100 temporal components updated\n",
      "52 out of total 100 temporal components updated\n",
      "72 out of total 100 temporal components updated\n",
      "86 out of total 100 temporal components updated\n",
      "94 out of total 100 temporal components updated\n",
      "97 out of total 100 temporal components updated\n",
      "100 out of total 100 temporal components updated\n",
      "stopping: overall temporal component not changing significantly\n",
      "Update Spatial\n",
      "Initializing update of Spatial Components\n",
      "computing the distance indicators\n",
      "memmaping\n",
      "Updating Spatial Components using lasso lars\n",
      "thresholding components\n",
      "Computing residuals\n",
      "--- 13.034780740737915 seconds ---\n",
      "Removing tempfiles created\n",
      "Compute Background Again\n",
      "Debugging: dims ((96, 150)) ssub (1) d1 (96) d2 (150) K (100) tsub (1) total_frames (2000)\n",
      "Debugging: A_ds.shape ((96, 150, 100))\n",
      "Estimate low rank Background\n",
      "parallel dot product block size: 1000\n",
      "Start product\n",
      "Processed:[0, 5]\n",
      "Transposing\n",
      "Processed:[5, 10]\n",
      "Transposing\n",
      "Processed:[10, 15]\n",
      "Transposing\n",
      "(Sparse) Mem Size A: 56, Mem Size C: 1600112\n",
      "(Dense) Mem Size A: 8, Mem Size C: 8\n",
      "Debugging (caiman_interface.py line 397 filter_rois): A.shape (14400, 100), C.shape (100, 2000), Yr.shape (14400, 2000), idx_components_orig [ 0  1  2  3  4  5  6  7  8  9 10 11 12 13 14 15 16 17 18 19 20 21 22 23 24\n",
      " 25 26 27 28 29 30 31 32 33 34 35 36 37 38 39 40 41 42 43 44 45 46 47 48 49\n",
      " 50 51 52 53 54 55 56 57 58 59 60 61 62 63 64 65 66 67 68 69 70 71 72 73 74\n",
      " 75 76 77 78 79 80 81 82 83 84 85 86 87 88 89 90 91 92 93 94 95 96 97 98 99]\n",
      "<class 'scipy.sparse.csc.csc_matrix'>\n",
      "<class 'scipy.sparse.csc.csc_matrix'>\n",
      "CNMF-E FINISHED!\n",
      "Automatically refining results...\n",
      "Debugging (caiman_easy.py line 323 filter_rois): A.shape (14400, 100), C.shape (100, 2000), Y.shape (96, 150, 2000), Yr.shape (14400, 2000), idx_components_orig [ 0  1  2  3  4  5  6  7  8  9 10 11 12 13 14 15 16 17 18 19 20 21 22 23 24\n",
      " 25 26 27 28 29 30 31 32 33 34 35 36 37 38 39 40 41 42 43 44 45 46 47 48 49\n",
      " 50 51 52 53 54 55 56 57 58 59 60 61 62 63 64 65 66 67 68 69 70 71 72 73 74\n",
      " 75 76 77 78 79 80 81 82 83 84 85 86 87 88 89 90 91 92 93 94 95 96 97 98 99]\n",
      "Debugging (components_evaluation.py line 480): Y.shape (96, 150, 2000), A.shape (14400, 100), C.shape (100, 2000)\n",
      "EVALUATING IN PARALLEL... NOT RETURNING ERFCs\n",
      "Keeping 8 and discarding  92\n"
     ]
    }
   ],
   "source": [
    "display(app_ui)"
   ]
  },
  {
   "cell_type": "markdown",
   "metadata": {
    "extensions": {
     "jupyter_dashboards": {
      "version": 1,
      "views": {
       "grid_default": {},
       "report_default": {
        "hidden": false
       }
      }
     }
    }
   },
   "source": [
    "### Notes"
   ]
  },
  {
   "cell_type": "markdown",
   "metadata": {
    "extensions": {
     "jupyter_dashboards": {
      "version": 1,
      "views": {
       "grid_default": {},
       "report_default": {
        "hidden": false
       }
      }
     }
    }
   },
   "source": [
    "##### Motion Correction Parameters:\n",
    "- Grouped?  If your folder contains movies from the _same_ experiment, i.e. if your recording software produces multiple segments of a single recording, then select \"Group\" so these will be combined in the analysis to a single movie. If your folder contains movies from different recordings, select \"Independent\" so they will be run separately.\n",
    "- Downsample factors are percentages from 0 to 1. If you enter 0.5 for height and width, then the movie resolution will be halved. E.g. if you have a 500px by 500px movie, it will be downsampled to 250px by 250px. You can also downsample in the time domain, i.e. if your movie has 1000 frames, entering 0.5 will downsample the frames to 500 frames. This should only be done if you're recording at a high frame rate.\n",
    "- \"High Pass\" setting should be left at default value.\n",
    "- Motion Correction has two modes: rigid and non-rigid. Rigid is much faster. Non-rigid should be used when the movie has non-rigid (elastic) motions/deformations. This can sometimes happen given with _in vivo_ brain recordings since the brain is an elastic organ.\n",
    "- MC Results: This section is under development. Currently you can only view a side-by-side of the original movie with the motion corrected movie. The movies will pop-up in a separate window. Press the __Q__ key on your keyboard to close the movie window.\n",
    "\n",
    "##### CNMF-E Parameters:\n",
    "- Patches? CNMF-E can run in two modes: patches or single field of view (FOV). Patches mode will break up each frame into multiple pieces and process them independently. On computers with multiple processors, this can be much faster. However, patches mode can produce unwanted reconstruction artifacts when the pieces are poorly re-assembled.\n",
    "- You can downsample in the CNMF-E stage, spatially (height and width) and temporally (frames/time). However, if you already downsampled during motion correction, you probably should not downsample again.\n",
    "- __K__: K is the estimated number of neurons in your field of view. This parameter helps the algorithm detect the correct number of neurons. It does not need to be highly accurate; an over-estimate is better.\n",
    "- __gSig__: This is the estimated half-width (radius) of each neuron in the movie, in pixel values. The default value will work in most cases.\n",
    "- __gSiz__: This is related to gSig and typically the default value will work fine.\n",
    "\n",
    "##### CNMF-E Results Viewer\n",
    "- This interface allows you to look at a \"Z-projection\" (i.e. flattened video) of the data to see how well the CNMF-E algorithm did at detecting neurons and avoiding noise. In the top left is a the Z-projected image with red dots denoting the neurons it detected. \n",
    "- In general, CNMF-E _will_ think some noise is a neuron. In that case, you need to look through the traces and at the image panels to see which cells are noise and press the `Delete ROI` button. This will not modify the `context`. This just excludes those ROIs if you download the data as a file.\n",
    "- Check the `Use dF/F` checkbox if you want to convert the signals to delta fluorescence / fluorescence. This is a necessary step if you want to be able to compare the signals between animals and recording sessions."
   ]
  },
  {
   "cell_type": "code",
   "execution_count": 3,
   "metadata": {
    "collapsed": true,
    "extensions": {
     "jupyter_dashboards": {
      "version": 1,
      "views": {
       "grid_default": {},
       "report_default": {
        "hidden": true
       }
      }
     }
    }
   },
   "outputs": [],
   "source": [
    "#clean_up(stop_server=True)\n"
   ]
  }
 ],
 "metadata": {
  "anaconda-cloud": {},
  "extensions": {
   "jupyter_dashboards": {
    "activeView": "report_default",
    "version": 1,
    "views": {
     "grid_default": {
      "cellMargin": 10,
      "defaultCellHeight": 20,
      "maxColumns": 12,
      "name": "grid",
      "type": "grid"
     },
     "report_default": {
      "name": "report",
      "type": "report"
     }
    }
   }
  },
  "kernelspec": {
   "display_name": "Python [default]",
   "language": "python",
   "name": "python3"
  },
  "language_info": {
   "codemirror_mode": {
    "name": "ipython",
    "version": 3
   },
   "file_extension": ".py",
   "mimetype": "text/x-python",
   "name": "python",
   "nbconvert_exporter": "python",
   "pygments_lexer": "ipython3",
   "version": "3.5.5"
  }
 },
 "nbformat": 4,
 "nbformat_minor": 2
}
