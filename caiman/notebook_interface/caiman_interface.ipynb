{
 "cells": [
  {
   "cell_type": "code",
   "execution_count": 1,
   "metadata": {
    "extensions": {
     "jupyter_dashboards": {
      "version": 1,
      "views": {
       "grid_default": {
        "hidden": true
       },
       "report_default": {
        "hidden": true
       }
      }
     }
    },
    "nbpresent": {
     "id": "790f1d6b-6a21-4009-85ef-31964fcfa7b1"
    }
   },
   "outputs": [
    {
     "name": "stdout",
     "output_type": "stream",
     "text": [
      "4000\n",
      "4000\n",
      "4000\n",
      "4000\n",
      "4000\n",
      "4000\n",
      "4000\n",
      "4000\n",
      "4000\n",
      "4000\n",
      "4000\n",
      "4000\n",
      "4000\n",
      "4000\n",
      "4000\n",
      "4000\n",
      "4000\n",
      "4000\n",
      "4000\n",
      "2240\n",
      "4000\n",
      "4000\n",
      "4000\n",
      "999\n",
      "1999\n",
      "2999\n",
      "3999\n",
      "4999\n",
      "5999\n",
      "6999\n",
      "7999\n",
      "8999\n",
      "9999\n",
      "10999\n",
      "11999\n",
      "12999\n",
      "13999\n",
      "14999\n",
      "15999\n",
      "16999\n",
      "17999\n",
      "18999\n",
      "19999\n",
      "20999\n",
      "21999\n",
      "22999\n",
      "23999\n",
      "24999\n",
      "25999\n",
      "26999\n",
      "27999\n",
      "28999\n",
      "29999\n",
      "30999\n",
      "31999\n",
      "32999\n",
      "33999\n",
      "34999\n",
      "35999\n",
      "36999\n",
      "37999\n",
      "38999\n",
      "39999\n",
      "40999\n",
      "41999\n",
      "42999\n",
      "43999\n",
      "44999\n",
      "45999\n",
      "46999\n",
      "47999\n",
      "48999\n",
      "49999\n",
      "50999\n",
      "51999\n",
      "52999\n",
      "53999\n",
      "54999\n",
      "55999\n",
      "56999\n",
      "57999\n",
      "58999\n",
      "59999\n",
      "60999\n",
      "61999\n",
      "62999\n",
      "63999\n",
      "64999\n",
      "65999\n",
      "66999\n",
      "67999\n",
      "68999\n",
      "69999\n",
      "70999\n",
      "71999\n",
      "72999\n",
      "73999\n",
      "74999\n",
      "75999\n",
      "76999\n",
      "77999\n",
      "78999\n",
      "79999\n",
      "80999\n",
      "81999\n",
      "82999\n",
      "83999\n",
      "84999\n",
      "85999\n",
      "86999\n",
      "87999\n",
      "88999\n",
      "89999\n",
      "90239\n"
     ]
    }
   ],
   "source": [
    "from caiman_interface import *\n",
    "%matplotlib notebook"
   ]
  },
  {
   "cell_type": "code",
   "execution_count": 2,
   "metadata": {
    "collapsed": true
   },
   "outputs": [],
   "source": [
    "#context.load('MYcontext')"
   ]
  },
  {
   "cell_type": "markdown",
   "metadata": {
    "extensions": {
     "jupyter_dashboards": {
      "version": 1,
      "views": {
       "grid_default": {
        "col": 0,
        "height": 2,
        "hidden": false,
        "row": 0,
        "width": 12
       },
       "report_default": {
        "hidden": false
       }
      }
     }
    }
   },
   "source": [
    "# <em>Ca</em><font color=\"grey\">lcium</font> <em>Im</em><font color=\"grey\">aging</font> <em>An</em><font color=\"grey\">alysis</font>"
   ]
  },
  {
   "cell_type": "markdown",
   "metadata": {
    "extensions": {
     "jupyter_dashboards": {
      "version": 1,
      "views": {
       "grid_default": {
        "col": 0,
        "height": 2,
        "hidden": false,
        "row": 2,
        "width": 12
       },
       "report_default": {
        "hidden": false
       }
      }
     }
    },
    "nbpresent": {
     "id": "3ae56ac2-10d3-472d-80a3-f42a5e3dd1ab"
    }
   },
   "source": [
    "### Motion Correction"
   ]
  },
  {
   "cell_type": "code",
   "execution_count": 3,
   "metadata": {
    "extensions": {
     "jupyter_dashboards": {
      "version": 1,
      "views": {
       "grid_default": {
        "col": 0,
        "height": 16,
        "hidden": false,
        "row": 4,
        "width": 12
       },
       "report_default": {
        "hidden": false
       }
      }
     }
    }
   },
   "outputs": [
    {
     "data": {
      "application/vnd.jupyter.widget-view+json": {
       "model_id": "8264278ce88b4ab1afabd87c4bcdfda4",
       "version_major": 2,
       "version_minor": 0
      },
      "text/plain": [
       "A Jupyter Widget"
      ]
     },
     "metadata": {},
     "output_type": "display_data"
    }
   ],
   "source": [
    "display(major_col)"
   ]
  },
  {
   "cell_type": "markdown",
   "metadata": {
    "extensions": {
     "jupyter_dashboards": {
      "version": 1,
      "views": {
       "grid_default": {
        "col": 0,
        "height": 2,
        "hidden": false,
        "row": 20,
        "width": 12
       },
       "report_default": {
        "hidden": false
       }
      }
     }
    }
   },
   "source": [
    "### Play Motion Corrected Movie (takes awhile to load)"
   ]
  },
  {
   "cell_type": "code",
   "execution_count": 4,
   "metadata": {
    "extensions": {
     "jupyter_dashboards": {
      "version": 1,
      "views": {
       "grid_default": {
        "col": 0,
        "height": 12,
        "hidden": false,
        "row": 22,
        "width": 12
       },
       "report_default": {
        "hidden": false
       }
      }
     }
    }
   },
   "outputs": [
    {
     "data": {
      "application/vnd.jupyter.widget-view+json": {
       "model_id": "550f8ea0e10545bab5b623a70eacc08c",
       "version_major": 2,
       "version_minor": 0
      },
      "text/plain": [
       "A Jupyter Widget"
      ]
     },
     "metadata": {},
     "output_type": "display_data"
    }
   ],
   "source": [
    "display(play_mov_btn_box)"
   ]
  },
  {
   "cell_type": "markdown",
   "metadata": {
    "extensions": {
     "jupyter_dashboards": {
      "version": 1,
      "views": {
       "grid_default": {
        "col": 0,
        "height": 2,
        "hidden": false,
        "row": 34,
        "width": 12
       },
       "report_default": {
        "hidden": false
       }
      }
     }
    }
   },
   "source": [
    "## CNMF-E (ROI Detection & Ca2+ Signal Extraction)"
   ]
  },
  {
   "cell_type": "code",
   "execution_count": 5,
   "metadata": {
    "extensions": {
     "jupyter_dashboards": {
      "version": 1,
      "views": {
       "grid_default": {
        "col": 0,
        "height": 17,
        "hidden": false,
        "row": 36,
        "width": 12
       },
       "report_default": {
        "hidden": false
       }
      }
     }
    },
    "scrolled": false
   },
   "outputs": [
    {
     "data": {
      "application/vnd.jupyter.widget-view+json": {
       "model_id": "cfb60bcdca514f64a21963195c024405",
       "version_major": 2,
       "version_minor": 0
      },
      "text/plain": [
       "A Jupyter Widget"
      ]
     },
     "metadata": {},
     "output_type": "display_data"
    },
    {
     "name": "stdout",
     "output_type": "stream",
     "text": [
      "Loaded: /Users/brandonbrown/Desktop/KhakhLab/MiniscopeProject/Xinzhu_Data/mc_rig_d1_240_d2_376_d3_1_order_C_frames_1000_.mmap\n",
      "Starting CNMF-E...\n",
      "Single FOV\n",
      "(240, 376)  ;  1000\n",
      "(1000, 240, 376)\n",
      "using 4 processes\n",
      "using 4000 pixels per process\n",
      "using 5000 block_size\n",
      "preprocessing ...\n",
      "checking if missing data\n",
      "initializing ...\n",
      "Roi Extraction...\n",
      "One photon initialization..\n",
      "0 neurons have been initialized\n",
      "In total,  82 neurons were initialized.\n",
      "Compute Background\n",
      "Compute Residuals\n",
      "Initialization again\n",
      "In total,  0 neurons were initialized.\n",
      "Update Temporal\n",
      "Generating residuals\n",
      "entering the deconvolution \n",
      "58 out of total 82 temporal components updated\n",
      "79 out of total 82 temporal components updated\n",
      "82 out of total 82 temporal components updated\n",
      "58 out of total 82 temporal components updated\n",
      "79 out of total 82 temporal components updated\n",
      "82 out of total 82 temporal components updated\n",
      "stopping: overall temporal component not changing significantly\n",
      "Update Spatial\n",
      "Initializing update of Spatial Components\n",
      "computing the distance indicators\n",
      "memmaping\n",
      "Updating Spatial Components using lasso lars\n",
      "thresholding components\n",
      "eliminating 1 empty spatial components\n",
      "Computing residuals\n",
      "--- 12.685781955718994 seconds ---\n",
      "Removing tempfiles created\n",
      "Compute Background Again\n",
      "Debugging (line 1006, initialization.py): A.shape ((90240, 81)) C.shape ((81, 1000))\n",
      "Update Temporal\n",
      "Generating residuals\n",
      "entering the deconvolution \n",
      "53 out of total 81 temporal components updated\n",
      "73 out of total 81 temporal components updated\n",
      "81 out of total 81 temporal components updated\n",
      "53 out of total 81 temporal components updated\n",
      "73 out of total 81 temporal components updated\n",
      "81 out of total 81 temporal components updated\n",
      "stopping: overall temporal component not changing significantly\n",
      "Update Spatial\n",
      "Initializing update of Spatial Components\n",
      "computing the distance indicators\n",
      "memmaping\n",
      "Updating Spatial Components using lasso lars\n",
      "thresholding components\n",
      "eliminating 4 empty spatial components\n",
      "Computing residuals\n",
      "--- 13.685653924942017 seconds ---\n",
      "Removing tempfiles created\n",
      "Compute Background Again\n",
      "Debugging: dims ((240, 376)) ssub (1) d1 (240) d2 (376) K (77) tsub (1) total_frames (1000)\n",
      "Debugging: A_ds.shape ((240, 376, 77))\n",
      "Estimate low rank Background\n",
      "parallel dot product block size: 1000\n",
      "Start product\n",
      "Processed:[0, 5]\n",
      "Transposing\n",
      "Processed:[5, 10]\n",
      "Transposing\n",
      "Processed:[10, 15]\n",
      "Transposing\n",
      "Processed:[15, 20]\n",
      "Transposing\n",
      "Processed:[20, 25]\n",
      "Transposing\n",
      "Processed:[25, 30]\n",
      "Transposing\n",
      "Processed:[30, 35]\n",
      "Transposing\n",
      "Processed:[35, 40]\n",
      "Transposing\n",
      "Processed:[40, 45]\n",
      "Transposing\n",
      "Processed:[45, 50]\n",
      "Transposing\n",
      "Processed:[50, 55]\n",
      "Transposing\n",
      "Processed:[55, 60]\n",
      "Transposing\n",
      "Processed:[60, 65]\n",
      "Transposing\n",
      "Processed:[65, 70]\n",
      "Transposing\n",
      "Processed:[70, 75]\n",
      "Transposing\n",
      "Processed:[75, 80]\n",
      "Transposing\n",
      "Processed:[80, 85]\n",
      "Transposing\n",
      "Processed:[85, 90]\n",
      "Transposing\n",
      "Processed:[90, 91]\n",
      "Transposing\n",
      "CNMF-E FINISHED!\n"
     ]
    },
    {
     "ename": "IndexError",
     "evalue": "tuple index out of range",
     "output_type": "error",
     "traceback": [
      "\u001b[0;31m---------------------------------------------------------------------------\u001b[0m",
      "\u001b[0;31mIndexError\u001b[0m                                Traceback (most recent call last)",
      "\u001b[0;32m~/Desktop/KhakhLab/MiniscopeProject/CaImAn/caiman/notebook_interface/caiman_interface.py\u001b[0m in \u001b[0;36mrun_cnmf_ui\u001b[0;34m(_)\u001b[0m\n\u001b[1;32m    401\u001b[0m     \u001b[0mprint\u001b[0m\u001b[0;34m(\u001b[0m\u001b[0;34m\"CNMF-E FINISHED!\"\u001b[0m\u001b[0;34m)\u001b[0m\u001b[0;34m\u001b[0m\u001b[0m\n\u001b[1;32m    402\u001b[0m     print(\"Debugging (caiman_easy.py line 323 filter_rois): A.shape {0}, C.shape {1}, Yr.shape {3}, idx_components_orig {4}\".format(\n\u001b[0;32m--> 403\u001b[0;31m     \u001b[0mA\u001b[0m\u001b[0;34m.\u001b[0m\u001b[0mshape\u001b[0m\u001b[0;34m,\u001b[0m\u001b[0mC\u001b[0m\u001b[0;34m.\u001b[0m\u001b[0mshape\u001b[0m\u001b[0;34m,\u001b[0m\u001b[0mYr\u001b[0m\u001b[0;34m.\u001b[0m\u001b[0mshape\u001b[0m\u001b[0;34m,\u001b[0m\u001b[0midx_components\u001b[0m\u001b[0;34m\u001b[0m\u001b[0m\n\u001b[0m\u001b[1;32m    404\u001b[0m     ))\n\u001b[1;32m    405\u001b[0m     \u001b[0;31m#results: A, C, b, f, YrA, sn, idx_components\u001b[0m\u001b[0;34m\u001b[0m\u001b[0;34m\u001b[0m\u001b[0m\n",
      "\u001b[0;31mIndexError\u001b[0m: tuple index out of range"
     ]
    }
   ],
   "source": [
    "display(major_cnmf_col)"
   ]
  },
  {
   "cell_type": "markdown",
   "metadata": {
    "extensions": {
     "jupyter_dashboards": {
      "version": 1,
      "views": {
       "grid_default": {
        "col": 0,
        "height": 2,
        "hidden": false,
        "row": 53,
        "width": 12
       },
       "report_default": {
        "hidden": false
       }
      }
     }
    }
   },
   "source": [
    "### CNMF-E Results Viewer"
   ]
  },
  {
   "cell_type": "code",
   "execution_count": 6,
   "metadata": {
    "extensions": {
     "jupyter_dashboards": {
      "version": 1,
      "views": {
       "grid_default": {
        "col": 0,
        "height": 27,
        "hidden": false,
        "row": 55,
        "width": 12
       },
       "report_default": {
        "hidden": false
       }
      }
     }
    },
    "scrolled": false
   },
   "outputs": [
    {
     "data": {
      "application/vnd.jupyter.widget-view+json": {
       "model_id": "371f828f1eeb463aa486e60167570884",
       "version_major": 2,
       "version_minor": 0
      },
      "text/plain": [
       "A Jupyter Widget"
      ]
     },
     "metadata": {},
     "output_type": "display_data"
    }
   ],
   "source": [
    "display(view_results_col)"
   ]
  },
  {
   "cell_type": "code",
   "execution_count": 7,
   "metadata": {
    "collapsed": true
   },
   "outputs": [],
   "source": [
    "#clean_up(stop_server=True)"
   ]
  }
 ],
 "metadata": {
  "anaconda-cloud": {},
  "extensions": {
   "jupyter_dashboards": {
    "activeView": "report_default",
    "version": 1,
    "views": {
     "grid_default": {
      "cellMargin": 10,
      "defaultCellHeight": 20,
      "maxColumns": 12,
      "name": "grid",
      "type": "grid"
     },
     "report_default": {
      "name": "report",
      "type": "report"
     }
    }
   }
  },
  "kernelspec": {
   "display_name": "Python [conda env:caiman]",
   "language": "python",
   "name": "conda-env-caiman-py"
  },
  "language_info": {
   "codemirror_mode": {
    "name": "ipython",
    "version": 3
   },
   "file_extension": ".py",
   "mimetype": "text/x-python",
   "name": "python",
   "nbconvert_exporter": "python",
   "pygments_lexer": "ipython3",
   "version": "3.6.2"
  }
 },
 "nbformat": 4,
 "nbformat_minor": 2
}
