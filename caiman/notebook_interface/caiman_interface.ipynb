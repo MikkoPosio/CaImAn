{
 "cells": [
  {
   "cell_type": "code",
   "execution_count": 1,
   "metadata": {
    "extensions": {
     "jupyter_dashboards": {
      "version": 1,
      "views": {
       "grid_default": {
        "hidden": true
       },
       "report_default": {
        "hidden": true
       }
      }
     }
    },
    "nbpresent": {
     "id": "790f1d6b-6a21-4009-85ef-31964fcfa7b1"
    }
   },
   "outputs": [
    {
     "name": "stdout",
     "output_type": "stream",
     "text": [
      "0\n",
      "0\n",
      "0\n",
      "0\n",
      "10\n",
      "10\n",
      "10\n",
      "10\n",
      "20\n",
      "20\n",
      "20\n",
      "20\n",
      "30\n",
      "30\n",
      "30\n",
      "30\n",
      "40\n",
      "40\n",
      "40\n",
      "40\n",
      "0\n",
      "0\n",
      "0\n",
      "0\n",
      "10\n",
      "10\n",
      "10\n",
      "10\n",
      "20\n",
      "20\n",
      "20\n",
      "20\n",
      "30\n",
      "30\n",
      "30\n",
      "30\n",
      "40\n",
      "40\n",
      "40\n",
      "40\n",
      "0\n",
      "0\n",
      "0\n",
      "0\n",
      "10\n",
      "10\n",
      "10\n",
      "10\n",
      "20\n",
      "20\n",
      "20\n",
      "20\n",
      "30\n",
      "30\n",
      "30\n",
      "40\n",
      "30\n",
      "40\n",
      "40\n",
      "40\n",
      "0\n",
      "0\n",
      "0\n",
      "10\n",
      "10\n",
      "0\n",
      "10\n",
      "20\n",
      "20\n",
      "10\n",
      "20\n",
      "30\n",
      "30\n",
      "30\n",
      "20\n",
      "40\n",
      "40\n",
      "40\n",
      "30\n",
      "40\n",
      "0\n",
      "0\n",
      "10\n",
      "10\n",
      "20\n",
      "20\n",
      "30\n",
      "30\n",
      "40\n",
      "40\n",
      "0\n",
      "0\n",
      "10\n",
      "10\n",
      "20\n",
      "20\n",
      "30\n",
      "30\n",
      "40\n",
      "40\n",
      "(4512, 1000)\n",
      "(4512, 1000)\n",
      "(4512, 1000)\n",
      "(4512, 1000)\n",
      "/Users/brandonbrown/Desktop/KhakhLab/MiniscopeProject/Xinzhu_Data/msCam1_rig__d1_240_d2_376_d3_1_order_F_frames_1000_.mmap\n",
      "/Users/brandonbrown/Desktop/KhakhLab/MiniscopeProject/Xinzhu_Data/msCam1_rig__d1_240_d2_376_d3_1_order_F_frames_1000_.mmap\n",
      "/Users/brandonbrown/Desktop/KhakhLab/MiniscopeProject/Xinzhu_Data/msCam1_rig__d1_240_d2_376_d3_1_order_F_frames_1000_.mmap\n",
      "/Users/brandonbrown/Desktop/KhakhLab/MiniscopeProject/Xinzhu_Data/msCam1_rig__d1_240_d2_376_d3_1_order_F_frames_1000_.mmap\n",
      "(9024, 13536)\n",
      "(18048, 22560)\n",
      "(27072, 31584)\n",
      "(0, 4512)\n",
      "done\n",
      "done\n",
      "done\n",
      "done\n",
      "(4512, 1000)\n",
      "/Users/brandonbrown/Desktop/KhakhLab/MiniscopeProject/Xinzhu_Data/msCam1_rig__d1_240_d2_376_d3_1_order_F_frames_1000_.mmap\n",
      "(4512, 1000)\n",
      "/Users/brandonbrown/Desktop/KhakhLab/MiniscopeProject/Xinzhu_Data/msCam1_rig__d1_240_d2_376_d3_1_order_F_frames_1000_.mmap\n",
      "(31584, 36096)\n",
      "(22560, 27072)\n",
      "(4512, 1000)\n",
      "/Users/brandonbrown/Desktop/KhakhLab/MiniscopeProject/Xinzhu_Data/msCam1_rig__d1_240_d2_376_d3_1_order_F_frames_1000_.mmap\n",
      "(4512, 9024)\n",
      "(4512, 1000)\n",
      "/Users/brandonbrown/Desktop/KhakhLab/MiniscopeProject/Xinzhu_Data/msCam1_rig__d1_240_d2_376_d3_1_order_F_frames_1000_.mmap\n",
      "(13536, 18048)\n",
      "done\n",
      "done\n",
      "done\n",
      "(4512, 1000)\n",
      "(4512, 1000)\n",
      "/Users/brandonbrown/Desktop/KhakhLab/MiniscopeProject/Xinzhu_Data/msCam1_rig__d1_240_d2_376_d3_1_order_F_frames_1000_.mmap\n",
      "/Users/brandonbrown/Desktop/KhakhLab/MiniscopeProject/Xinzhu_Data/msCam1_rig__d1_240_d2_376_d3_1_order_F_frames_1000_.mmap\n",
      "(45120, 49632)\n",
      "(4512, 1000)\n",
      "(36096, 40608)\n",
      "/Users/brandonbrown/Desktop/KhakhLab/MiniscopeProject/Xinzhu_Data/msCam1_rig__d1_240_d2_376_d3_1_order_F_frames_1000_.mmap\n",
      "(54144, 58656)\n",
      "done\n",
      "(4512, 1000)\n",
      "/Users/brandonbrown/Desktop/KhakhLab/MiniscopeProject/Xinzhu_Data/msCam1_rig__d1_240_d2_376_d3_1_order_F_frames_1000_.mmap\n",
      "(63168, 67680)\n",
      "done\n",
      "done\n",
      "(4512, 1000)\n",
      "/Users/brandonbrown/Desktop/KhakhLab/MiniscopeProject/Xinzhu_Data/msCam1_rig__d1_240_d2_376_d3_1_order_F_frames_1000_.mmap\n",
      "(49632, 54144)\n",
      "done\n",
      "(4512, 1000)\n",
      "/Users/brandonbrown/Desktop/KhakhLab/MiniscopeProject/Xinzhu_Data/msCam1_rig__d1_240_d2_376_d3_1_order_F_frames_1000_.mmap\n",
      "(58656, 63168)\n",
      "(4512, 1000)\n",
      "/Users/brandonbrown/Desktop/KhakhLab/MiniscopeProject/Xinzhu_Data/msCam1_rig__d1_240_d2_376_d3_1_order_F_frames_1000_.mmap\n",
      "(40608, 45120)\n",
      "done\n",
      "(4512, 1000)\n",
      "/Users/brandonbrown/Desktop/KhakhLab/MiniscopeProject/Xinzhu_Data/msCam1_rig__d1_240_d2_376_d3_1_order_F_frames_1000_.mmap\n",
      "(67680, 72192)\n",
      "done\n",
      "(4512, 1000)\n",
      "/Users/brandonbrown/Desktop/KhakhLab/MiniscopeProject/Xinzhu_Data/msCam1_rig__d1_240_d2_376_d3_1_order_F_frames_1000_.mmap\n",
      "(72192, 76704)\n",
      "done\n",
      "done\n",
      "(4512, 1000)\n",
      "/Users/brandonbrown/Desktop/KhakhLab/MiniscopeProject/Xinzhu_Data/msCam1_rig__d1_240_d2_376_d3_1_order_F_frames_1000_.mmap\n",
      "(81216, 85728)\n",
      "done\n",
      "done\n",
      "(4512, 1000)\n",
      "/Users/brandonbrown/Desktop/KhakhLab/MiniscopeProject/Xinzhu_Data/msCam1_rig__d1_240_d2_376_d3_1_order_F_frames_1000_.mmap\n",
      "(76704, 81216)\n",
      "done\n",
      "(4512, 1000)\n",
      "/Users/brandonbrown/Desktop/KhakhLab/MiniscopeProject/Xinzhu_Data/msCam1_rig__d1_240_d2_376_d3_1_order_F_frames_1000_.mmap\n",
      "(85728, 90240)\n",
      "done\n",
      "done\n",
      "4000\n",
      "4000\n",
      "4000\n",
      "4000\n",
      "4000\n",
      "4000\n",
      "4000\n",
      "4000\n",
      "4000\n",
      "4000\n",
      "4000\n",
      "4000\n",
      "4000\n",
      "4000\n",
      "4000\n",
      "4000\n",
      "4000\n",
      "4000\n",
      "4000\n",
      "2240\n",
      "4000\n",
      "4000\n",
      "4000\n"
     ]
    }
   ],
   "source": [
    "from caiman_interface import *\n",
    "%matplotlib notebook"
   ]
  },
  {
   "cell_type": "code",
   "execution_count": 2,
   "metadata": {},
   "outputs": [],
   "source": [
    "#context.load('MYcontext')"
   ]
  },
  {
   "cell_type": "markdown",
   "metadata": {
    "extensions": {
     "jupyter_dashboards": {
      "version": 1,
      "views": {
       "grid_default": {
        "col": 0,
        "height": 2,
        "hidden": false,
        "row": 0,
        "width": 12
       },
       "report_default": {
        "hidden": false
       }
      }
     }
    }
   },
   "source": [
    "# <em>Ca</em><font color=\"grey\">lcium</font> <em>Im</em><font color=\"grey\">aging</font> <em>An</em><font color=\"grey\">alysis</font>"
   ]
  },
  {
   "cell_type": "markdown",
   "metadata": {
    "extensions": {
     "jupyter_dashboards": {
      "version": 1,
      "views": {
       "grid_default": {
        "col": 0,
        "height": 2,
        "hidden": false,
        "row": 2,
        "width": 12
       },
       "report_default": {
        "hidden": false
       }
      }
     }
    },
    "nbpresent": {
     "id": "3ae56ac2-10d3-472d-80a3-f42a5e3dd1ab"
    }
   },
   "source": [
    "### Motion Correction"
   ]
  },
  {
   "cell_type": "code",
   "execution_count": 3,
   "metadata": {
    "extensions": {
     "jupyter_dashboards": {
      "version": 1,
      "views": {
       "grid_default": {
        "col": 0,
        "height": 16,
        "hidden": false,
        "row": 4,
        "width": 12
       },
       "report_default": {
        "hidden": false
       }
      }
     }
    }
   },
   "outputs": [
    {
     "data": {
      "application/vnd.jupyter.widget-view+json": {
       "model_id": "c8aaa56ba9234bd6aecd3ea9678fbf11",
       "version_major": 2,
       "version_minor": 0
      },
      "text/plain": [
       "A Jupyter Widget"
      ]
     },
     "metadata": {},
     "output_type": "display_data"
    },
    {
     "name": "stdout",
     "output_type": "stream",
     "text": [
      "Loaded: /Users/brandonbrown/Desktop/KhakhLab/MiniscopeProject/Xinzhu_Data/msCam1.avi\n",
      "Converting msCam1.avi to TIF file format...\n",
      "Downsampling by 0.5 x, 0.5 y, 1.0 t (frames), resaving as temporary file\n",
      "reshaping along x and y\n",
      "(376, 240)\n",
      ".tif\n",
      "tifffile package not found, using skimage instead for imsave\n",
      "Min Mov:  -1.88093\n",
      "Motion correcting: /Users/brandonbrown/Desktop/KhakhLab/MiniscopeProject/Xinzhu_Data/msCam1.tif\n",
      "Starting RIGID motion correction...\n",
      "Rigid Motion Correction\n",
      "1.88093\n",
      "-0.659299699068\n"
     ]
    },
    {
     "name": "stderr",
     "output_type": "stream",
     "text": [
      "/Users/brandonbrown/Desktop/KhakhLab/MiniscopeProject/caiman/caiman/base/movies.py:261: UserWarning: ** Pixels averages are too negative. Removing 1 percentile. **\n",
      "  warnings.warn('** Pixels averages are too negative. Removing 1 percentile. **')\n",
      "/Users/brandonbrown/Desktop/KhakhLab/MiniscopeProject/caiman/caiman/base/movies.py:279: UserWarning: Pixels averages are too negative for template. Removing 1 percentile.\n",
      "  warnings.warn('Pixels averages are too negative for template. Removing 1 percentile.')\n"
     ]
    },
    {
     "name": "stdout",
     "output_type": "stream",
     "text": [
      "Frame 100\n",
      "cubic interpolation\n",
      "Frame 100\n",
      "-0.659299699068\n",
      "Frame 100\n",
      "cubic interpolation\n",
      "Frame 100\n",
      "-0.659299699068\n",
      "Frame 100\n",
      "cubic interpolation\n",
      "Frame 100\n",
      "Adding to movie 1.88093\n",
      "0\n",
      "saving!\n",
      "** Startting parallel motion correction **\n",
      "** Finished parallel motion correction **\n",
      "0.0233104\n",
      "mmap\n",
      "Batch mode, combining files\n",
      "('/Users/brandonbrown/Desktop/KhakhLab/MiniscopeProject/Xinzhu_Data/msCam1_rig__d1_240_d2_376_d3_1_order_F_frames_1000_.mmap', 1000)\n",
      "/Users/brandonbrown/Desktop/KhakhLab/MiniscopeProject/Xinzhu_Data/mc_rig_d1_240_d2_376_d3_1_order_C_frames_1000_.mmap\n",
      "Deleting big mov\n",
      "/Users/brandonbrown/Desktop/KhakhLab/MiniscopeProject/Xinzhu_Data/mc_rig_d1_240_d2_376_d3_1_order_C_frames_1000_.mmap\n",
      "Motion Correction DONE!\n",
      "Output file(s): \n",
      "/Users/brandonbrown/Desktop/KhakhLab/MiniscopeProject/Xinzhu_Data/mc_rig_d1_240_d2_376_d3_1_order_C_frames_1000_.mmap\n"
     ]
    }
   ],
   "source": [
    "display(major_col)"
   ]
  },
  {
   "cell_type": "markdown",
   "metadata": {
    "extensions": {
     "jupyter_dashboards": {
      "version": 1,
      "views": {
       "grid_default": {
        "col": 0,
        "height": 2,
        "hidden": false,
        "row": 20,
        "width": 12
       },
       "report_default": {
        "hidden": false
       }
      }
     }
    }
   },
   "source": [
    "### Play Motion Corrected Movie (takes awhile to load)"
   ]
  },
  {
   "cell_type": "code",
   "execution_count": 4,
   "metadata": {
    "extensions": {
     "jupyter_dashboards": {
      "version": 1,
      "views": {
       "grid_default": {
        "col": 0,
        "height": 12,
        "hidden": false,
        "row": 22,
        "width": 12
       },
       "report_default": {
        "hidden": false
       }
      }
     }
    }
   },
   "outputs": [
    {
     "data": {
      "application/vnd.jupyter.widget-view+json": {
       "model_id": "eb574f88e5db4870b43cdb5100ea5566",
       "version_major": 2,
       "version_minor": 0
      },
      "text/plain": [
       "A Jupyter Widget"
      ]
     },
     "metadata": {},
     "output_type": "display_data"
    }
   ],
   "source": [
    "display(play_mov_btn_box)"
   ]
  },
  {
   "cell_type": "markdown",
   "metadata": {
    "extensions": {
     "jupyter_dashboards": {
      "version": 1,
      "views": {
       "grid_default": {
        "col": 0,
        "height": 2,
        "hidden": false,
        "row": 34,
        "width": 12
       },
       "report_default": {
        "hidden": false
       }
      }
     }
    }
   },
   "source": [
    "## CNMF-E (ROI Detection & Ca2+ Signal Extraction)"
   ]
  },
  {
   "cell_type": "code",
   "execution_count": 5,
   "metadata": {
    "extensions": {
     "jupyter_dashboards": {
      "version": 1,
      "views": {
       "grid_default": {
        "col": 0,
        "height": 17,
        "hidden": false,
        "row": 36,
        "width": 12
       },
       "report_default": {
        "hidden": false
       }
      }
     }
    },
    "scrolled": false
   },
   "outputs": [
    {
     "data": {
      "application/vnd.jupyter.widget-view+json": {
       "model_id": "b60fb3da41a04011adc71367b09b53d6",
       "version_major": 2,
       "version_minor": 0
      },
      "text/plain": [
       "A Jupyter Widget"
      ]
     },
     "metadata": {},
     "output_type": "display_data"
    },
    {
     "name": "stdout",
     "output_type": "stream",
     "text": [
      "Loaded: /Users/brandonbrown/Desktop/KhakhLab/MiniscopeProject/Xinzhu_Data/mc_rig_d1_240_d2_376_d3_1_order_C_frames_1000_.mmap\n",
      "Starting CNMF-E...\n",
      "Single FOV\n",
      "(240, 376)  ;  1000\n",
      "(1000, 240, 376)\n",
      "using 4 processes\n",
      "using 4000 pixels per process\n",
      "using 5000 block_size\n",
      "preprocessing ...\n",
      "checking if missing data\n",
      "initializing ...\n",
      "Roi Extraction...\n",
      "One photon initialization..\n",
      "0 neurons have been initialized\n",
      "In total,  82 neurons were initialized.\n",
      "Compute Background\n"
     ]
    }
   ],
   "source": [
    "display(major_cnmf_col)"
   ]
  },
  {
   "cell_type": "markdown",
   "metadata": {
    "extensions": {
     "jupyter_dashboards": {
      "version": 1,
      "views": {
       "grid_default": {
        "col": 0,
        "height": 2,
        "hidden": false,
        "row": 53,
        "width": 12
       },
       "report_default": {
        "hidden": false
       }
      }
     }
    }
   },
   "source": [
    "### CNMF-E Results Viewer"
   ]
  },
  {
   "cell_type": "code",
   "execution_count": 6,
   "metadata": {
    "extensions": {
     "jupyter_dashboards": {
      "version": 1,
      "views": {
       "grid_default": {
        "col": 0,
        "height": 27,
        "hidden": false,
        "row": 55,
        "width": 12
       },
       "report_default": {
        "hidden": false
       }
      }
     }
    },
    "scrolled": false
   },
   "outputs": [
    {
     "data": {
      "application/vnd.jupyter.widget-view+json": {
       "model_id": "1693a172e5884b1aa7041b99f87cfe7d",
       "version_major": 2,
       "version_minor": 0
      },
      "text/plain": [
       "A Jupyter Widget"
      ]
     },
     "metadata": {},
     "output_type": "display_data"
    }
   ],
   "source": [
    "display(view_results_col)"
   ]
  },
  {
   "cell_type": "code",
   "execution_count": 7,
   "metadata": {
    "collapsed": true
   },
   "outputs": [],
   "source": [
    "#clean_up(stop_server=True)"
   ]
  }
 ],
 "metadata": {
  "anaconda-cloud": {},
  "extensions": {
   "jupyter_dashboards": {
    "activeView": "report_default",
    "version": 1,
    "views": {
     "grid_default": {
      "cellMargin": 10,
      "defaultCellHeight": 20,
      "maxColumns": 12,
      "name": "grid",
      "type": "grid"
     },
     "report_default": {
      "name": "report",
      "type": "report"
     }
    }
   }
  },
  "kernelspec": {
   "display_name": "Python [conda env:caiman]",
   "language": "python",
   "name": "conda-env-caiman-py"
  },
  "language_info": {
   "codemirror_mode": {
    "name": "ipython",
    "version": 3
   },
   "file_extension": ".py",
   "mimetype": "text/x-python",
   "name": "python",
   "nbconvert_exporter": "python",
   "pygments_lexer": "ipython3",
   "version": "3.6.2"
  }
 },
 "nbformat": 4,
 "nbformat_minor": 2
}
