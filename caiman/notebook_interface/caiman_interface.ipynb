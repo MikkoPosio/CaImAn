{
 "cells": [
  {
   "cell_type": "code",
   "execution_count": 1,
   "metadata": {
    "extensions": {
     "jupyter_dashboards": {
      "version": 1,
      "views": {
       "grid_default": {
        "hidden": true
       },
       "report_default": {
        "hidden": true
       }
      }
     }
    },
    "nbpresent": {
     "id": "790f1d6b-6a21-4009-85ef-31964fcfa7b1"
    }
   },
   "outputs": [
    {
     "name": "stdout",
     "output_type": "stream",
     "text": [
      "4000\n",
      "4000\n",
      "4000\n",
      "2400\n",
      "999\n",
      "1999\n",
      "3999\n",
      "2999\n",
      "4999\n",
      "6999\n",
      "5999\n",
      "7999\n",
      "8999\n",
      "9999\n",
      "10999\n",
      "11999\n",
      "13999\n",
      "12999\n",
      "14399\n",
      "tB:-4.0,tA:17.0\n",
      "Computing event exceptionality delta\n",
      "tB:-4.0,tA:17.0\n",
      "Computing event exceptionality delta\n",
      "tB:-4.0,tA:17.0\n",
      "Computing event exceptionality delta\n",
      "Removing Baseline\n",
      "binning data ...\n",
      "interpolating data ...\n",
      "(5, 50)\n",
      "Removing Baseline\n",
      "binning data ...\n",
      "Removing Baseline\n",
      "interpolating data ...\n",
      "binning data ...\n",
      "(5, 49)\n",
      "interpolating data ...\n",
      "(5, 50)\n",
      "Computing event exceptionality\n",
      "Computing event exceptionality\n",
      "Computing event exceptionality\n",
      "Evaluating spatial footprint\n",
      "Evaluating spatial footprint\n",
      "Evaluating spatial footprint\n",
      "components evaluated:0\n",
      "Neuron:2 includes overlaping spiking neurons\n",
      "components evaluated:0\n",
      "components evaluated:0\n"
     ]
    }
   ],
   "source": [
    "from caiman_interface import *\n",
    "#from event_logic import *\n",
    "%matplotlib notebook"
   ]
  },
  {
   "cell_type": "markdown",
   "metadata": {
    "extensions": {
     "jupyter_dashboards": {
      "version": 1,
      "views": {
       "grid_default": {
        "col": 0,
        "height": 2,
        "hidden": false,
        "row": 0,
        "width": 12
       },
       "report_default": {
        "hidden": false
       }
      }
     }
    }
   },
   "source": [
    "# <em>Ca</em><font color=\"grey\">lcium</font> <em>Im</em><font color=\"grey\">aging</font> <em>An</em><font color=\"grey\">alysis</font>\n",
    "### Jupyter Notebook Interface (alpha version)"
   ]
  },
  {
   "cell_type": "markdown",
   "metadata": {
    "extensions": {
     "jupyter_dashboards": {
      "version": 1,
      "views": {
       "grid_default": {},
       "report_default": {
        "hidden": false
       }
      }
     }
    }
   },
   "source": [
    "##### Manage Context\n",
    "The context is the data that is saved during each step of the analysis. You can save all of your work as a `context` file with the extension `.pkl`. For example, if you finish the CNMF-E analysis step, you can save your context, and then re-load it later to view the results interactively here. Please note the context files are large, so only save if necessary."
   ]
  },
  {
   "cell_type": "code",
   "execution_count": 2,
   "metadata": {
    "extensions": {
     "jupyter_dashboards": {
      "version": 1,
      "views": {
       "grid_default": {},
       "report_default": {
        "hidden": false
       }
      }
     }
    }
   },
   "outputs": [
    {
     "data": {
      "application/vnd.jupyter.widget-view+json": {
       "model_id": "8b23e1680d154dc3bd8c1823e68267b9",
       "version_major": 2,
       "version_minor": 0
      },
      "text/html": [
       "<p>Failed to display Jupyter Widget of type <code>VBox</code>.</p>\n",
       "<p>\n",
       "  If you're reading this message in the Jupyter Notebook or JupyterLab Notebook, it may mean\n",
       "  that the widgets JavaScript is still loading. If this message persists, it\n",
       "  likely means that the widgets JavaScript library is either not installed or\n",
       "  not enabled. See the <a href=\"https://ipywidgets.readthedocs.io/en/stable/user_install.html\">Jupyter\n",
       "  Widgets Documentation</a> for setup instructions.\n",
       "</p>\n",
       "<p>\n",
       "  If you're reading this message in another frontend (for example, a static\n",
       "  rendering on GitHub or <a href=\"https://nbviewer.jupyter.org/\">NBViewer</a>),\n",
       "  it may mean that your frontend doesn't currently support widgets.\n",
       "</p>\n"
      ],
      "text/plain": [
       "VBox(children=(HBox(children=(Label(value='Set Working Directory:'), Text(value='/Users/brandonbrown/Desktop/KhakhLab/MiniscopeProject/CaImAn/caiman/notebook_interface', layout=Layout(width='35%'), placeholder='/Users/brandonbrown/Desktop/KhakhLab/MiniscopeProject/CaImAn/caiman/notebook_interface'), Button(button_style='success', description='Set WkDir', style=ButtonStyle(), tooltip='Set working directory'))), HBox(children=(Label(value='Load context from:'), Text(value='/Users/brandonbrown/Desktop/KhakhLab/MiniscopeProject/CaImAn/caiman/notebook_interface', layout=Layout(width='35%'), placeholder='/Users/brandonbrown/Desktop/KhakhLab/MiniscopeProject/CaImAn/caiman/notebook_interface'), Button(button_style='success', description='Load Context', style=ButtonStyle(), tooltip='Load Context'), Button(button_style='success', description='Save Context', style=ButtonStyle(), tooltip='Save Context')))))"
      ]
     },
     "metadata": {},
     "output_type": "display_data"
    }
   ],
   "source": [
    "display(wkdir_context_box)"
   ]
  },
  {
   "cell_type": "markdown",
   "metadata": {
    "extensions": {
     "jupyter_dashboards": {
      "version": 1,
      "views": {
       "grid_default": {
        "col": 0,
        "height": 2,
        "hidden": false,
        "row": 2,
        "width": 12
       },
       "report_default": {
        "hidden": false
       }
      }
     }
    },
    "nbpresent": {
     "id": "3ae56ac2-10d3-472d-80a3-f42a5e3dd1ab"
    }
   },
   "source": [
    "### Motion Correction"
   ]
  },
  {
   "cell_type": "code",
   "execution_count": 3,
   "metadata": {
    "extensions": {
     "jupyter_dashboards": {
      "version": 1,
      "views": {
       "grid_default": {
        "col": 0,
        "height": 16,
        "hidden": false,
        "row": 4,
        "width": 12
       },
       "report_default": {
        "hidden": false
       }
      }
     }
    }
   },
   "outputs": [
    {
     "data": {
      "application/vnd.jupyter.widget-view+json": {
       "model_id": "071271d91fbd43b983ad68a2847cba95",
       "version_major": 2,
       "version_minor": 0
      },
      "text/html": [
       "<p>Failed to display Jupyter Widget of type <code>VBox</code>.</p>\n",
       "<p>\n",
       "  If you're reading this message in the Jupyter Notebook or JupyterLab Notebook, it may mean\n",
       "  that the widgets JavaScript is still loading. If this message persists, it\n",
       "  likely means that the widgets JavaScript library is either not installed or\n",
       "  not enabled. See the <a href=\"https://ipywidgets.readthedocs.io/en/stable/user_install.html\">Jupyter\n",
       "  Widgets Documentation</a> for setup instructions.\n",
       "</p>\n",
       "<p>\n",
       "  If you're reading this message in another frontend (for example, a static\n",
       "  rendering on GitHub or <a href=\"https://nbviewer.jupyter.org/\">NBViewer</a>),\n",
       "  it may mean that your frontend doesn't currently support widgets.\n",
       "</p>\n"
      ],
      "text/plain": [
       "VBox(children=(HBox(children=(Text(value='/Users/brandonbrown/Desktop/KhakhLab/MiniscopeProject/CaImAn/caiman/notebook_interface', description='File/Folder Path:', layout=Layout(width='50%'), placeholder='/Users/brandonbrown/Desktop/KhakhLab/MiniscopeProject/CaImAn/caiman/notebook_interface'), Button(button_style='success', description='Load Files', icon='check', style=ButtonStyle(), tooltip='Load Files'))), ToggleButtons(description='Grouped?:', options=('Group', 'Independent'), tooltips=['Run all movies together as if one movie', 'Run each movie independently'], value='Group'), Accordion(children=(VBox(children=(Label(value='Downsample Percentage (height, width, frames/time)'), HBox(children=(BoundedFloatText(value=1.0, description='height:', layout=Layout(width='20%'), max=1.0, min=0.1, step=0.1), BoundedFloatText(value=1.0, description='width:', layout=Layout(width='20%'), max=1.0, min=0.1, step=0.1), BoundedFloatText(value=1.0, description='frames:', layout=Layout(width='20%'), max=1.0, min=0.1, step=0.1))), IntSlider(value=7, continuous_update=False, description='High Pass Filter:', max=50), ToggleButtons(button_style='warning', description='MC Mode:', options=('Rigid', 'Non-Rigid'), tooltips=['Rigid correction (faster)', 'Non-rigid correction (slow, more accurate)'], value='Rigid'))), VBox(children=(Label(value='Under Construction'),))), _titles={'0': 'Basic MC Settings', '1': 'Advanced MC Settings'}), Button(button_style='info', description='Run Motion Correction', layout=Layout(width='30%'), style=ButtonStyle(), tooltip='Run motion correction')))"
      ]
     },
     "metadata": {},
     "output_type": "display_data"
    }
   ],
   "source": [
    "display(major_col)"
   ]
  },
  {
   "cell_type": "markdown",
   "metadata": {
    "extensions": {
     "jupyter_dashboards": {
      "version": 1,
      "views": {
       "grid_default": {
        "col": 0,
        "height": 2,
        "hidden": false,
        "row": 20,
        "width": 12
       },
       "report_default": {
        "hidden": false
       }
      }
     }
    }
   },
   "source": [
    "### Play Motion Corrected Movie (takes awhile to load)"
   ]
  },
  {
   "cell_type": "code",
   "execution_count": 4,
   "metadata": {
    "extensions": {
     "jupyter_dashboards": {
      "version": 1,
      "views": {
       "grid_default": {
        "col": 0,
        "height": 12,
        "hidden": false,
        "row": 22,
        "width": 12
       },
       "report_default": {
        "hidden": false
       }
      }
     }
    }
   },
   "outputs": [
    {
     "data": {
      "application/vnd.jupyter.widget-view+json": {
       "model_id": "a947ba9317c342bd88dfcac5ec378466",
       "version_major": 2,
       "version_minor": 0
      },
      "text/html": [
       "<p>Failed to display Jupyter Widget of type <code>HBox</code>.</p>\n",
       "<p>\n",
       "  If you're reading this message in the Jupyter Notebook or JupyterLab Notebook, it may mean\n",
       "  that the widgets JavaScript is still loading. If this message persists, it\n",
       "  likely means that the widgets JavaScript library is either not installed or\n",
       "  not enabled. See the <a href=\"https://ipywidgets.readthedocs.io/en/stable/user_install.html\">Jupyter\n",
       "  Widgets Documentation</a> for setup instructions.\n",
       "</p>\n",
       "<p>\n",
       "  If you're reading this message in another frontend (for example, a static\n",
       "  rendering on GitHub or <a href=\"https://nbviewer.jupyter.org/\">NBViewer</a>),\n",
       "  it may mean that your frontend doesn't currently support widgets.\n",
       "</p>\n"
      ],
      "text/plain": [
       "HBox(children=(Button(button_style='success', description='Play Movies', style=ButtonStyle(), tooltip='Play Movies'),))"
      ]
     },
     "metadata": {},
     "output_type": "display_data"
    }
   ],
   "source": [
    "display(play_mov_btn_box)"
   ]
  },
  {
   "cell_type": "markdown",
   "metadata": {
    "extensions": {
     "jupyter_dashboards": {
      "version": 1,
      "views": {
       "grid_default": {
        "col": 0,
        "height": 2,
        "hidden": false,
        "row": 34,
        "width": 12
       },
       "report_default": {
        "hidden": false
       }
      }
     }
    }
   },
   "source": [
    "## CNMF-E (ROI Detection & Ca2+ Signal Extraction)"
   ]
  },
  {
   "cell_type": "code",
   "execution_count": 5,
   "metadata": {
    "extensions": {
     "jupyter_dashboards": {
      "version": 1,
      "views": {
       "grid_default": {
        "col": 0,
        "height": 17,
        "hidden": false,
        "row": 36,
        "width": 12
       },
       "report_default": {
        "hidden": false
       }
      }
     }
    },
    "scrolled": false
   },
   "outputs": [
    {
     "data": {
      "application/vnd.jupyter.widget-view+json": {
       "model_id": "be5b7a0366824793a6fd5c66ae431f96",
       "version_major": 2,
       "version_minor": 0
      },
      "text/html": [
       "<p>Failed to display Jupyter Widget of type <code>VBox</code>.</p>\n",
       "<p>\n",
       "  If you're reading this message in the Jupyter Notebook or JupyterLab Notebook, it may mean\n",
       "  that the widgets JavaScript is still loading. If this message persists, it\n",
       "  likely means that the widgets JavaScript library is either not installed or\n",
       "  not enabled. See the <a href=\"https://ipywidgets.readthedocs.io/en/stable/user_install.html\">Jupyter\n",
       "  Widgets Documentation</a> for setup instructions.\n",
       "</p>\n",
       "<p>\n",
       "  If you're reading this message in another frontend (for example, a static\n",
       "  rendering on GitHub or <a href=\"https://nbviewer.jupyter.org/\">NBViewer</a>),\n",
       "  it may mean that your frontend doesn't currently support widgets.\n",
       "</p>\n"
      ],
      "text/plain": [
       "VBox(children=(HBox(children=(Text(value='/Users/brandonbrown/Desktop/KhakhLab/MiniscopeProject/CaImAn/caiman/notebook_interface', description='File (.mmap):', layout=Layout(width='50%'), placeholder='/Users/brandonbrown/Desktop/KhakhLab/MiniscopeProject/CaImAn/caiman/notebook_interface'),)), Accordion(children=(VBox(children=(HBox(children=(ToggleButtons(description='Patches?:', index=1, options=('Patches', 'Single FOV'), tooltips=['Run each frame in parallel by breaking into overlapping FOVs', 'The whole frame is analyed as a single FOV'], value='Single FOV'),)), HBox(children=(Label(value='Downsample Percentage (spatial, temporal)'), BoundedFloatText(value=1.0, description='spatial:', layout=Layout(width='20%'), max=1.0, step=0.1), BoundedFloatText(value=1.0, description='temporal:', layout=Layout(width='20%'), max=1.0, step=0.1))), HBox(children=(BoundedIntText(value=100, description='K:', layout=Layout(width='20%'), max=1000, min=1, step=5), BoundedIntText(value=4, description='gSig:', layout=Layout(width='20%'), max=50, min=1), BoundedIntText(value=12, description='gSiz:', layout=Layout(width='20%'), max=50, min=1))), HBox(children=(FloatSlider(value=0.85, continuous_update=False, description='Min. Corr.:', max=1.0, readout_format='.2', step=0.05), IntSlider(value=15, continuous_update=False, description='Min. PNR.:', max=50, min=1))), HBox(children=(Checkbox(value=False, description='Run Deconvolution', layout=Layout(width='30%')), Checkbox(value=False, description='Save Denoised Movie (.avi)', layout=Layout(width='30%')))))), VBox(children=(Label(value='Under Construction'),))), _titles={'0': 'Basic CNMF-E Settings', '1': 'Advanced CNMF-E Settings'}), Button(button_style='info', description='Run CNMF-E', layout=Layout(width='30%'), style=ButtonStyle(), tooltip='Run CNMF-E')))"
      ]
     },
     "metadata": {},
     "output_type": "display_data"
    },
    {
     "name": "stdout",
     "output_type": "stream",
     "text": [
      "Loaded: /Users/brandonbrown/Desktop/KhakhLab/MiniscopeProject/Xinzhu_Data/mc_rig_d1_96_d2_150_d3_1_order_C_frames_2000_.mmap\n",
      "Starting CNMF-E...\n",
      "Single FOV\n",
      "Deconvolution: ON\n",
      "(96, 150)  ;  2000\n",
      "(2000, 96, 150)\n",
      "using 10 processes\n",
      "using 4000 pixels per process\n",
      "using 5000 block_size\n",
      "preprocessing ...\n",
      "checking if missing data\n",
      "initializing ...\n",
      "Roi Extraction...\n",
      "One photon initialization..\n",
      "0 neurons have been initialized\n",
      "100 neurons have been initialized\n",
      "In total,  150 neurons were initialized.\n",
      "Compute Background\n",
      "Compute Residuals\n",
      "Update Temporal\n",
      "Generating residuals\n",
      "entering the deconvolution \n",
      "33 out of total 150 temporal components updated\n",
      "65 out of total 150 temporal components updated\n",
      "91 out of total 150 temporal components updated\n",
      "108 out of total 150 temporal components updated\n",
      "123 out of total 150 temporal components updated\n",
      "137 out of total 150 temporal components updated\n",
      "145 out of total 150 temporal components updated\n",
      "149 out of total 150 temporal components updated\n",
      "150 out of total 150 temporal components updated\n",
      "33 out of total 150 temporal components updated\n",
      "65 out of total 150 temporal components updated\n",
      "91 out of total 150 temporal components updated\n",
      "108 out of total 150 temporal components updated\n",
      "123 out of total 150 temporal components updated\n",
      "137 out of total 150 temporal components updated\n",
      "145 out of total 150 temporal components updated\n",
      "149 out of total 150 temporal components updated\n",
      "150 out of total 150 temporal components updated\n",
      "stopping: overall temporal component not changing significantly\n",
      "Update Spatial\n",
      "Initializing update of Spatial Components\n",
      "computing the distance indicators\n",
      "memmaping\n",
      "Updating Spatial Components using lasso lars\n",
      "thresholding components\n",
      "eliminating 1 empty spatial components\n",
      "Computing residuals\n",
      "--- 14.007527828216553 seconds ---\n",
      "Removing tempfiles created\n",
      "Compute Background Again\n",
      "Debugging (line 1006, initialization.py): A.shape ((14400, 149)) C.shape ((149, 2000))\n",
      "Update Temporal\n",
      "Generating residuals\n",
      "entering the deconvolution \n",
      "28 out of total 149 temporal components updated\n",
      "54 out of total 149 temporal components updated\n",
      "80 out of total 149 temporal components updated\n",
      "100 out of total 149 temporal components updated\n",
      "116 out of total 149 temporal components updated\n",
      "128 out of total 149 temporal components updated\n",
      "137 out of total 149 temporal components updated\n",
      "145 out of total 149 temporal components updated\n",
      "148 out of total 149 temporal components updated\n",
      "149 out of total 149 temporal components updated\n",
      "28 out of total 149 temporal components updated\n",
      "54 out of total 149 temporal components updated\n",
      "80 out of total 149 temporal components updated\n",
      "100 out of total 149 temporal components updated\n",
      "116 out of total 149 temporal components updated\n",
      "128 out of total 149 temporal components updated\n",
      "137 out of total 149 temporal components updated\n",
      "145 out of total 149 temporal components updated\n",
      "148 out of total 149 temporal components updated\n",
      "149 out of total 149 temporal components updated\n",
      "stopping: overall temporal component not changing significantly\n",
      "Update Spatial\n",
      "Initializing update of Spatial Components\n",
      "computing the distance indicators\n",
      "memmaping\n",
      "Updating Spatial Components using lasso lars\n",
      "thresholding components\n",
      "Computing residuals\n",
      "--- 15.453325986862183 seconds ---\n",
      "Removing tempfiles created\n",
      "Compute Background Again\n",
      "Debugging: dims ((96, 150)) ssub (1) d1 (96) d2 (150) K (149) tsub (1) total_frames (2000)\n",
      "Debugging: A_ds.shape ((96, 150, 149))\n",
      "Estimate low rank Background\n",
      "parallel dot product block size: 1000\n",
      "Start product\n",
      "Processed:[0, 5]\n",
      "Transposing\n",
      "Processed:[5, 10]\n",
      "Transposing\n",
      "Processed:[10, 15]\n",
      "Transposing\n",
      "(Sparse) Mem Size A: 56, Mem Size C: 2384112\n",
      "(Dense) Mem Size A: 8, Mem Size C: 8\n",
      "Debugging (caiman_interface.py line 397 filter_rois): A.shape (14400, 149), C.shape (149, 2000), Yr.shape (14400, 2000), idx_components_orig [  0   1   2   3   4   5   6   7   8   9  10  11  12  13  14  15  16  17\n",
      "  18  19  20  21  22  23  24  25  26  27  28  29  30  31  32  33  34  35\n",
      "  36  37  38  39  40  41  42  43  44  45  46  47  48  49  50  51  52  53\n",
      "  54  55  56  57  58  59  60  61  62  63  64  65  66  67  68  69  70  71\n",
      "  72  73  74  75  76  77  78  79  80  81  82  83  84  85  86  87  88  89\n",
      "  90  91  92  93  94  95  96  97  98  99 100 101 102 103 104 105 106 107\n",
      " 108 109 110 111 112 113 114 115 116 117 118 119 120 121 122 123 124 125\n",
      " 126 127 128 129 130 131 132 133 134 135 136 137 138 139 140 141 142 143\n",
      " 144 145 146 147 148]\n",
      "<class 'scipy.sparse.csc.csc_matrix'>\n",
      "<class 'scipy.sparse.csc.csc_matrix'>\n",
      "CNMF-E FINISHED!\n",
      "Automatically refining results...\n",
      "Debugging (caiman_easy.py line 323 filter_rois): A.shape (14400, 149), C.shape (149, 2000), Y.shape (96, 150, 2000), Yr.shape (14400, 2000), idx_components_orig [  0   1   2   3   4   5   6   7   8   9  10  11  12  13  14  15  16  17\n",
      "  18  19  20  21  22  23  24  25  26  27  28  29  30  31  32  33  34  35\n",
      "  36  37  38  39  40  41  42  43  44  45  46  47  48  49  50  51  52  53\n",
      "  54  55  56  57  58  59  60  61  62  63  64  65  66  67  68  69  70  71\n",
      "  72  73  74  75  76  77  78  79  80  81  82  83  84  85  86  87  88  89\n",
      "  90  91  92  93  94  95  96  97  98  99 100 101 102 103 104 105 106 107\n",
      " 108 109 110 111 112 113 114 115 116 117 118 119 120 121 122 123 124 125\n",
      " 126 127 128 129 130 131 132 133 134 135 136 137 138 139 140 141 142 143\n",
      " 144 145 146 147 148]\n",
      "Debugging (components_evaluation.py line 480): Y.shape (96, 150, 2000), A.shape (14400, 149), C.shape (149, 2000)\n",
      "EVALUATING IN PARALLEL... NOT RETURNING ERFCs\n",
      "Keeping 122 and discarding  27\n"
     ]
    }
   ],
   "source": [
    "display(major_cnmf_col)"
   ]
  },
  {
   "cell_type": "code",
   "execution_count": 7,
   "metadata": {},
   "outputs": [],
   "source": [
    "A, C, b, f, YrA, sn, idx_components_orig, conv = context.cnmf_results"
   ]
  },
  {
   "cell_type": "markdown",
   "metadata": {
    "extensions": {
     "jupyter_dashboards": {
      "version": 1,
      "views": {
       "grid_default": {
        "col": 0,
        "height": 2,
        "hidden": false,
        "row": 53,
        "width": 12
       },
       "report_default": {
        "hidden": false
       }
      }
     }
    }
   },
   "source": [
    "### CNMF-E Results Viewer"
   ]
  },
  {
   "cell_type": "code",
   "execution_count": null,
   "metadata": {
    "extensions": {
     "jupyter_dashboards": {
      "version": 1,
      "views": {
       "grid_default": {
        "col": 0,
        "height": 27,
        "hidden": false,
        "row": 55,
        "width": 12
       },
       "report_default": {
        "hidden": false
       }
      }
     }
    },
    "scrolled": false
   },
   "outputs": [],
   "source": [
    "display(view_results_col)"
   ]
  },
  {
   "cell_type": "markdown",
   "metadata": {},
   "source": [
    "### Automated Ca2+ Signal Event Detection and Analysis"
   ]
  },
  {
   "cell_type": "code",
   "execution_count": null,
   "metadata": {
    "scrolled": false
   },
   "outputs": [],
   "source": [
    "show_start_menu()"
   ]
  },
  {
   "cell_type": "markdown",
   "metadata": {
    "extensions": {
     "jupyter_dashboards": {
      "version": 1,
      "views": {
       "grid_default": {},
       "report_default": {
        "hidden": false
       }
      }
     }
    }
   },
   "source": [
    "### Notes"
   ]
  },
  {
   "cell_type": "markdown",
   "metadata": {
    "extensions": {
     "jupyter_dashboards": {
      "version": 1,
      "views": {
       "grid_default": {},
       "report_default": {
        "hidden": false
       }
      }
     }
    }
   },
   "source": [
    "##### Motion Correction Parameters:\n",
    "- Grouped?  If your folder contains movies from the _same_ experiment, i.e. if your recording software produces multiple segments of a single recording, then select \"Group\" so these will be combined in the analysis to a single movie. If your folder contains movies from different recordings, select \"Independent\" so they will be run separately.\n",
    "- Downsample factors are percentages from 0 to 1. If you enter 0.5 for height and width, then the movie resolution will be halved. E.g. if you have a 500px by 500px movie, it will be downsampled to 250px by 250px. You can also downsample in the time domain, i.e. if your movie has 1000 frames, entering 0.5 will downsample the frames to 500 frames. This should only be done if you're recording at a high frame rate.\n",
    "- \"High Pass\" setting should be left at default value.\n",
    "- Motion Correction has two modes: rigid and non-rigid. Rigid is much faster. Non-rigid should be used when the movie has non-rigid (elastic) motions/deformations. This can sometimes happen given with _in vivo_ brain recordings since the brain is an elastic organ.\n",
    "\n",
    "##### CNMF-E Parameters:\n",
    "- Patches? CNMF-E can run in two modes: patches or single field of view (FOV). Patches mode will break up each frame into multiple pieces and process them independently. On computers with multiple processors, this can be much faster. However, patches mode can produce unwanted reconstruction artifacts when the pieces are poorly re-assembled.\n",
    "- You can downsample in the CNMF-E stage, spatially (height and width) and temporally (frames/time). However, if you already downsampled during motion correction, you probably should not downsample again.\n",
    "- __K__: K is the estimated number of neurons in your field of view. This parameter helps the algorithm detect the correct number of neurons. It does not need to be highly accurate; an over-estimate is better.\n",
    "- __gSig__: This is the estimated half-width (radius) of each neuron in the movie, in pixel values. The default value will work in most cases.\n",
    "- __gSiz__: This is related to gSig and typically the default value will work fine.\n",
    "\n",
    "##### CNMF-E Results Viewer\n",
    "- This interface allows you to look at a \"Z-projection\" (i.e. flattened video) of the data to see how well the CNMF-E algorithm did at detecting neurons and avoiding noise. In the top left is a the Z-projected image with red dots denoting the neurons it detected. \n",
    "- In general, CNMF-E _will_ think some noise is a neuron. In that case, you need to look through the traces and at the image panels to see which cells are noise and press the `Delete ROI` button. This will not modify the `context`. This just excludes those ROIs if you download the data as a file.\n",
    "- Check the `Use dF/F` checkbox if you want to convert the signals to delta fluorescence / fluorescence. This is a necessary step if you want to be able to compare the signals between animals and recording sessions."
   ]
  },
  {
   "cell_type": "code",
   "execution_count": null,
   "metadata": {
    "collapsed": true,
    "extensions": {
     "jupyter_dashboards": {
      "version": 1,
      "views": {
       "grid_default": {},
       "report_default": {
        "hidden": true
       }
      }
     }
    }
   },
   "outputs": [],
   "source": [
    "#clean_up(stop_server=True)"
   ]
  },
  {
   "cell_type": "code",
   "execution_count": null,
   "metadata": {},
   "outputs": [],
   "source": [
    "context.working_dir"
   ]
  },
  {
   "cell_type": "code",
   "execution_count": null,
   "metadata": {
    "collapsed": true
   },
   "outputs": [],
   "source": [
    "#ROI #34, extra spikes\n",
    "#No scroll bar"
   ]
  }
 ],
 "metadata": {
  "anaconda-cloud": {},
  "extensions": {
   "jupyter_dashboards": {
    "activeView": "report_default",
    "version": 1,
    "views": {
     "grid_default": {
      "cellMargin": 10,
      "defaultCellHeight": 20,
      "maxColumns": 12,
      "name": "grid",
      "type": "grid"
     },
     "report_default": {
      "name": "report",
      "type": "report"
     }
    }
   }
  },
  "kernelspec": {
   "display_name": "Python [conda env:caiman]",
   "language": "python",
   "name": "conda-env-caiman-py"
  },
  "language_info": {
   "codemirror_mode": {
    "name": "ipython",
    "version": 3
   },
   "file_extension": ".py",
   "mimetype": "text/x-python",
   "name": "python",
   "nbconvert_exporter": "python",
   "pygments_lexer": "ipython3",
   "version": "3.6.2"
  }
 },
 "nbformat": 4,
 "nbformat_minor": 2
}
